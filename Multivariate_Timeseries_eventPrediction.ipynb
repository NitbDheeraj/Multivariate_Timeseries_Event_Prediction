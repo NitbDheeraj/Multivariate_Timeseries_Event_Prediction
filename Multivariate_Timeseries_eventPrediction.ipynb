{
 "cells": [
  {
   "cell_type": "code",
   "execution_count": 1,
   "id": "dde96975",
   "metadata": {},
   "outputs": [
    {
     "name": "stdout",
     "output_type": "stream",
     "text": [
      "WARNING:tensorflow:From C:\\Users\\dheer\\AppData\\Roaming\\Python\\Python311\\site-packages\\keras\\src\\losses.py:2976: The name tf.losses.sparse_softmax_cross_entropy is deprecated. Please use tf.compat.v1.losses.sparse_softmax_cross_entropy instead.\n",
      "\n"
     ]
    }
   ],
   "source": [
    "import numpy as np\n",
    "import pandas as pd\n",
    "from sklearn.model_selection import train_test_split\n",
    "from sklearn.metrics import accuracy_score\n",
    "from tensorflow.keras.models import Sequential\n",
    "from tensorflow.keras.layers import Dense"
   ]
  },
  {
   "cell_type": "code",
   "execution_count": 2,
   "id": "cbf092ca",
   "metadata": {},
   "outputs": [],
   "source": [
    "# 1. Randomly generate data for 25k accounts with 75 features, event flag.\n",
    "num_accounts = 25000\n",
    "num_features = 75\n",
    "num_timesteps = 36"
   ]
  },
  {
   "cell_type": "code",
   "execution_count": 3,
   "id": "410484ca",
   "metadata": {},
   "outputs": [],
   "source": [
    "# Generating random data\n",
    "np.random.seed(42)  # for reproducibility\n",
    "data = {\n",
    "    'Account': np.repeat(np.arange(1, num_accounts+1), num_timesteps),\n",
    "    'Time Step': np.tile(np.arange(1, num_timesteps+1), num_accounts)\n",
    "}\n",
    "for i in range(1, num_features + 1):\n",
    "    data[f'Feature_{i}'] = np.random.rand(num_accounts * num_timesteps)\n"
   ]
  },
  {
   "cell_type": "code",
   "execution_count": 4,
   "id": "fc2a63c9",
   "metadata": {},
   "outputs": [],
   "source": [
    "# Introducing events randomly\n",
    "event_probability = 0.05  # Adjust as needed\n",
    "data['Event'] = np.random.choice([0, 1], size=num_accounts*num_timesteps, p=[1-event_probability, event_probability])"
   ]
  },
  {
   "cell_type": "code",
   "execution_count": 5,
   "id": "d2ce86ee",
   "metadata": {},
   "outputs": [
    {
     "data": {
      "text/html": [
       "<div>\n",
       "<style scoped>\n",
       "    .dataframe tbody tr th:only-of-type {\n",
       "        vertical-align: middle;\n",
       "    }\n",
       "\n",
       "    .dataframe tbody tr th {\n",
       "        vertical-align: top;\n",
       "    }\n",
       "\n",
       "    .dataframe thead th {\n",
       "        text-align: right;\n",
       "    }\n",
       "</style>\n",
       "<table border=\"1\" class=\"dataframe\">\n",
       "  <thead>\n",
       "    <tr style=\"text-align: right;\">\n",
       "      <th></th>\n",
       "      <th>Account</th>\n",
       "      <th>Time Step</th>\n",
       "      <th>Feature_1</th>\n",
       "      <th>Feature_2</th>\n",
       "      <th>Feature_3</th>\n",
       "      <th>Feature_4</th>\n",
       "      <th>Feature_5</th>\n",
       "      <th>Feature_6</th>\n",
       "      <th>Feature_7</th>\n",
       "      <th>Feature_8</th>\n",
       "      <th>...</th>\n",
       "      <th>Feature_67</th>\n",
       "      <th>Feature_68</th>\n",
       "      <th>Feature_69</th>\n",
       "      <th>Feature_70</th>\n",
       "      <th>Feature_71</th>\n",
       "      <th>Feature_72</th>\n",
       "      <th>Feature_73</th>\n",
       "      <th>Feature_74</th>\n",
       "      <th>Feature_75</th>\n",
       "      <th>Event</th>\n",
       "    </tr>\n",
       "  </thead>\n",
       "  <tbody>\n",
       "    <tr>\n",
       "      <th>0</th>\n",
       "      <td>1</td>\n",
       "      <td>1</td>\n",
       "      <td>0.374540</td>\n",
       "      <td>0.177220</td>\n",
       "      <td>0.240509</td>\n",
       "      <td>0.658199</td>\n",
       "      <td>0.652684</td>\n",
       "      <td>0.007886</td>\n",
       "      <td>0.299669</td>\n",
       "      <td>0.431278</td>\n",
       "      <td>...</td>\n",
       "      <td>0.195509</td>\n",
       "      <td>0.739435</td>\n",
       "      <td>0.594085</td>\n",
       "      <td>0.936477</td>\n",
       "      <td>0.719711</td>\n",
       "      <td>0.120982</td>\n",
       "      <td>0.362680</td>\n",
       "      <td>0.540876</td>\n",
       "      <td>0.100523</td>\n",
       "      <td>0</td>\n",
       "    </tr>\n",
       "    <tr>\n",
       "      <th>1</th>\n",
       "      <td>1</td>\n",
       "      <td>2</td>\n",
       "      <td>0.950714</td>\n",
       "      <td>0.425793</td>\n",
       "      <td>0.610160</td>\n",
       "      <td>0.193327</td>\n",
       "      <td>0.379541</td>\n",
       "      <td>0.080570</td>\n",
       "      <td>0.453735</td>\n",
       "      <td>0.109143</td>\n",
       "      <td>...</td>\n",
       "      <td>0.940149</td>\n",
       "      <td>0.207561</td>\n",
       "      <td>0.661080</td>\n",
       "      <td>0.762089</td>\n",
       "      <td>0.022470</td>\n",
       "      <td>0.857024</td>\n",
       "      <td>0.366775</td>\n",
       "      <td>0.459732</td>\n",
       "      <td>0.543220</td>\n",
       "      <td>0</td>\n",
       "    </tr>\n",
       "    <tr>\n",
       "      <th>2</th>\n",
       "      <td>1</td>\n",
       "      <td>3</td>\n",
       "      <td>0.731994</td>\n",
       "      <td>0.433131</td>\n",
       "      <td>0.440874</td>\n",
       "      <td>0.852763</td>\n",
       "      <td>0.980179</td>\n",
       "      <td>0.797293</td>\n",
       "      <td>0.408622</td>\n",
       "      <td>0.414723</td>\n",
       "      <td>...</td>\n",
       "      <td>0.089135</td>\n",
       "      <td>0.495945</td>\n",
       "      <td>0.792619</td>\n",
       "      <td>0.633261</td>\n",
       "      <td>0.982240</td>\n",
       "      <td>0.163241</td>\n",
       "      <td>0.710392</td>\n",
       "      <td>0.338058</td>\n",
       "      <td>0.739751</td>\n",
       "      <td>0</td>\n",
       "    </tr>\n",
       "    <tr>\n",
       "      <th>3</th>\n",
       "      <td>1</td>\n",
       "      <td>4</td>\n",
       "      <td>0.598658</td>\n",
       "      <td>0.382641</td>\n",
       "      <td>0.291918</td>\n",
       "      <td>0.264948</td>\n",
       "      <td>0.511499</td>\n",
       "      <td>0.289840</td>\n",
       "      <td>0.687179</td>\n",
       "      <td>0.704581</td>\n",
       "      <td>...</td>\n",
       "      <td>0.485015</td>\n",
       "      <td>0.309159</td>\n",
       "      <td>0.657370</td>\n",
       "      <td>0.675822</td>\n",
       "      <td>0.472532</td>\n",
       "      <td>0.065485</td>\n",
       "      <td>0.731821</td>\n",
       "      <td>0.481697</td>\n",
       "      <td>0.632003</td>\n",
       "      <td>0</td>\n",
       "    </tr>\n",
       "    <tr>\n",
       "      <th>4</th>\n",
       "      <td>1</td>\n",
       "      <td>5</td>\n",
       "      <td>0.156019</td>\n",
       "      <td>0.018041</td>\n",
       "      <td>0.078053</td>\n",
       "      <td>0.926069</td>\n",
       "      <td>0.325941</td>\n",
       "      <td>0.679429</td>\n",
       "      <td>0.907369</td>\n",
       "      <td>0.008192</td>\n",
       "      <td>...</td>\n",
       "      <td>0.951703</td>\n",
       "      <td>0.892886</td>\n",
       "      <td>0.295252</td>\n",
       "      <td>0.745551</td>\n",
       "      <td>0.990639</td>\n",
       "      <td>0.917855</td>\n",
       "      <td>0.610486</td>\n",
       "      <td>0.138153</td>\n",
       "      <td>0.295509</td>\n",
       "      <td>0</td>\n",
       "    </tr>\n",
       "  </tbody>\n",
       "</table>\n",
       "<p>5 rows × 78 columns</p>\n",
       "</div>"
      ],
      "text/plain": [
       "   Account  Time Step  Feature_1  Feature_2  Feature_3  Feature_4  Feature_5  \\\n",
       "0        1          1   0.374540   0.177220   0.240509   0.658199   0.652684   \n",
       "1        1          2   0.950714   0.425793   0.610160   0.193327   0.379541   \n",
       "2        1          3   0.731994   0.433131   0.440874   0.852763   0.980179   \n",
       "3        1          4   0.598658   0.382641   0.291918   0.264948   0.511499   \n",
       "4        1          5   0.156019   0.018041   0.078053   0.926069   0.325941   \n",
       "\n",
       "   Feature_6  Feature_7  Feature_8  ...  Feature_67  Feature_68  Feature_69  \\\n",
       "0   0.007886   0.299669   0.431278  ...    0.195509    0.739435    0.594085   \n",
       "1   0.080570   0.453735   0.109143  ...    0.940149    0.207561    0.661080   \n",
       "2   0.797293   0.408622   0.414723  ...    0.089135    0.495945    0.792619   \n",
       "3   0.289840   0.687179   0.704581  ...    0.485015    0.309159    0.657370   \n",
       "4   0.679429   0.907369   0.008192  ...    0.951703    0.892886    0.295252   \n",
       "\n",
       "   Feature_70  Feature_71  Feature_72  Feature_73  Feature_74  Feature_75  \\\n",
       "0    0.936477    0.719711    0.120982    0.362680    0.540876    0.100523   \n",
       "1    0.762089    0.022470    0.857024    0.366775    0.459732    0.543220   \n",
       "2    0.633261    0.982240    0.163241    0.710392    0.338058    0.739751   \n",
       "3    0.675822    0.472532    0.065485    0.731821    0.481697    0.632003   \n",
       "4    0.745551    0.990639    0.917855    0.610486    0.138153    0.295509   \n",
       "\n",
       "   Event  \n",
       "0      0  \n",
       "1      0  \n",
       "2      0  \n",
       "3      0  \n",
       "4      0  \n",
       "\n",
       "[5 rows x 78 columns]"
      ]
     },
     "execution_count": 5,
     "metadata": {},
     "output_type": "execute_result"
    }
   ],
   "source": [
    "# Convert to DataFrame\n",
    "df = pd.DataFrame(data)\n",
    "df.head()"
   ]
  },
  {
   "cell_type": "code",
   "execution_count": 6,
   "id": "52d0c004",
   "metadata": {},
   "outputs": [],
   "source": [
    "# 2. Create a machine learning model and train the generated data\n",
    "# Separate features and target variable\n",
    "X = df.drop(['Account', 'Time Step', 'Event'], axis=1)\n",
    "y = df['Event']"
   ]
  },
  {
   "cell_type": "code",
   "execution_count": 7,
   "id": "ac2d6c9b",
   "metadata": {},
   "outputs": [],
   "source": [
    "# Split the data into train and test sets\n",
    "X_train, X_test, y_train, y_test = train_test_split(X, y, test_size=0.2, random_state=42)"
   ]
  },
  {
   "cell_type": "code",
   "execution_count": 8,
   "id": "71d09589",
   "metadata": {},
   "outputs": [
    {
     "name": "stdout",
     "output_type": "stream",
     "text": [
      "WARNING:tensorflow:From C:\\Users\\dheer\\AppData\\Roaming\\Python\\Python311\\site-packages\\keras\\src\\backend.py:873: The name tf.get_default_graph is deprecated. Please use tf.compat.v1.get_default_graph instead.\n",
      "\n"
     ]
    }
   ],
   "source": [
    "# Build the neural network model\n",
    "model = Sequential([\n",
    "    Dense(128, activation='relu', input_shape=(X_train.shape[1],)),\n",
    "    Dense(64, activation='relu'),\n",
    "    Dense(1, activation='sigmoid')\n",
    "])"
   ]
  },
  {
   "cell_type": "code",
   "execution_count": 9,
   "id": "eabc6030",
   "metadata": {},
   "outputs": [
    {
     "name": "stdout",
     "output_type": "stream",
     "text": [
      "WARNING:tensorflow:From C:\\Users\\dheer\\AppData\\Roaming\\Python\\Python311\\site-packages\\keras\\src\\optimizers\\__init__.py:309: The name tf.train.Optimizer is deprecated. Please use tf.compat.v1.train.Optimizer instead.\n",
      "\n"
     ]
    }
   ],
   "source": [
    "# Compile the model\n",
    "model.compile(optimizer='adam',\n",
    "              loss='binary_crossentropy',\n",
    "              metrics=['accuracy'])"
   ]
  },
  {
   "cell_type": "code",
   "execution_count": 10,
   "id": "5b65700d",
   "metadata": {},
   "outputs": [
    {
     "name": "stdout",
     "output_type": "stream",
     "text": [
      "Epoch 1/10\n",
      "WARNING:tensorflow:From C:\\Users\\dheer\\AppData\\Roaming\\Python\\Python311\\site-packages\\keras\\src\\utils\\tf_utils.py:492: The name tf.ragged.RaggedTensorValue is deprecated. Please use tf.compat.v1.ragged.RaggedTensorValue instead.\n",
      "\n",
      "WARNING:tensorflow:From C:\\Users\\dheer\\AppData\\Roaming\\Python\\Python311\\site-packages\\keras\\src\\engine\\base_layer_utils.py:384: The name tf.executing_eagerly_outside_functions is deprecated. Please use tf.compat.v1.executing_eagerly_outside_functions instead.\n",
      "\n",
      "22500/22500 [==============================] - 46s 2ms/step - loss: 0.1988 - accuracy: 0.9504\n",
      "Epoch 2/10\n",
      "22500/22500 [==============================] - 43s 2ms/step - loss: 0.1976 - accuracy: 0.9505\n",
      "Epoch 3/10\n",
      "22500/22500 [==============================] - 46s 2ms/step - loss: 0.1972 - accuracy: 0.9505\n",
      "Epoch 4/10\n",
      "22500/22500 [==============================] - 46s 2ms/step - loss: 0.1970 - accuracy: 0.9505\n",
      "Epoch 5/10\n",
      "22500/22500 [==============================] - 43s 2ms/step - loss: 0.1970 - accuracy: 0.9505\n",
      "Epoch 6/10\n",
      "22500/22500 [==============================] - 43s 2ms/step - loss: 0.1970 - accuracy: 0.9505\n",
      "Epoch 7/10\n",
      "22500/22500 [==============================] - 43s 2ms/step - loss: 0.1970 - accuracy: 0.9505\n",
      "Epoch 8/10\n",
      "22500/22500 [==============================] - 43s 2ms/step - loss: 0.1970 - accuracy: 0.9505\n",
      "Epoch 9/10\n",
      "22500/22500 [==============================] - 43s 2ms/step - loss: 0.1970 - accuracy: 0.9505\n",
      "Epoch 10/10\n",
      "22500/22500 [==============================] - 43s 2ms/step - loss: 0.1970 - accuracy: 0.9505\n"
     ]
    },
    {
     "data": {
      "text/plain": [
       "<keras.src.callbacks.History at 0x216b20025d0>"
      ]
     },
     "execution_count": 10,
     "metadata": {},
     "output_type": "execute_result"
    }
   ],
   "source": [
    "# Train the model\n",
    "model.fit(X_train, y_train, epochs=10, batch_size=32, verbose=1)"
   ]
  },
  {
   "cell_type": "code",
   "execution_count": 11,
   "id": "6c229797",
   "metadata": {},
   "outputs": [
    {
     "name": "stdout",
     "output_type": "stream",
     "text": [
      "Test Accuracy: 0.9500722289085388\n"
     ]
    }
   ],
   "source": [
    "# Evaluate the model on the test set\n",
    "loss, accuracy = model.evaluate(X_test, y_test, verbose=0)\n",
    "print(\"Test Accuracy:\", accuracy)"
   ]
  },
  {
   "cell_type": "code",
   "execution_count": 12,
   "id": "c7bb5801",
   "metadata": {},
   "outputs": [],
   "source": [
    "# Generate random data for 100 accounts\n",
    "num_accounts_new = 100"
   ]
  },
  {
   "cell_type": "code",
   "execution_count": 13,
   "id": "be864c40",
   "metadata": {},
   "outputs": [],
   "source": [
    "new_data = {\n",
    "    'Account': np.repeat(np.arange(1, num_accounts_new+1), num_timesteps),\n",
    "    'Time Step': np.tile(np.arange(1, num_timesteps+1), num_accounts_new),\n",
    "}\n",
    "for i in range(1, num_features + 1):\n",
    "    new_data[f'Feature_{i}'] = np.random.rand(num_accounts_new * num_timesteps)\n"
   ]
  },
  {
   "cell_type": "code",
   "execution_count": 14,
   "id": "914a8a83",
   "metadata": {},
   "outputs": [],
   "source": [
    "# Introducing events randomly\n",
    "new_data['Event'] = np.random.choice([0, 1], size=num_accounts_new*num_timesteps, p=[1-event_probability, event_probability])\n"
   ]
  },
  {
   "cell_type": "code",
   "execution_count": 15,
   "id": "2ba4ad22",
   "metadata": {},
   "outputs": [],
   "source": [
    "# Convert to DataFrame\n",
    "new_df = pd.DataFrame(new_data)\n",
    "\n",
    "# Separate features and target variable\n",
    "X_new = new_df.drop(['Account', 'Time Step', 'Event'], axis=1)\n",
    "y_new = new_df['Event']"
   ]
  },
  {
   "cell_type": "code",
   "execution_count": 16,
   "id": "72cdb2b3",
   "metadata": {},
   "outputs": [
    {
     "name": "stdout",
     "output_type": "stream",
     "text": [
      "113/113 [==============================] - 0s 2ms/step\n"
     ]
    }
   ],
   "source": [
    "# Make predictions on the new data\n",
    "y_pred_new = (model.predict(X_new) > 0.5).astype(\"int32\")"
   ]
  },
  {
   "cell_type": "code",
   "execution_count": 17,
   "id": "71a091d3",
   "metadata": {},
   "outputs": [
    {
     "name": "stdout",
     "output_type": "stream",
     "text": [
      "Accuracy on new data: 0.9533333333333334\n"
     ]
    }
   ],
   "source": [
    "# Calculate accuracy on new data\n",
    "accuracy_new = accuracy_score(y_new, y_pred_new)\n",
    "print(\"Accuracy on new data:\", accuracy_new)"
   ]
  },
  {
   "cell_type": "code",
   "execution_count": null,
   "id": "b6a32c21",
   "metadata": {},
   "outputs": [],
   "source": []
  }
 ],
 "metadata": {
  "kernelspec": {
   "display_name": "Python 3 (ipykernel)",
   "language": "python",
   "name": "python3"
  },
  "language_info": {
   "codemirror_mode": {
    "name": "ipython",
    "version": 3
   },
   "file_extension": ".py",
   "mimetype": "text/x-python",
   "name": "python",
   "nbconvert_exporter": "python",
   "pygments_lexer": "ipython3",
   "version": "3.11.5"
  }
 },
 "nbformat": 4,
 "nbformat_minor": 5
}
